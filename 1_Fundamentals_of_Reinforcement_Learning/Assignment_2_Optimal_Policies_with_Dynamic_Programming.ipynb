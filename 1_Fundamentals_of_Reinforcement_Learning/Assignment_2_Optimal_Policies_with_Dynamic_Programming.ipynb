{
  "nbformat": 4,
  "nbformat_minor": 0,
  "metadata": {
    "colab": {
      "name": "Assignment 2: Optimal Policies with Dynamic Programming.ipynb",
      "provenance": [],
      "collapsed_sections": [],
      "authorship_tag": "ABX9TyO/G1G4R33wa1neAuVQyxjj",
      "include_colab_link": true
    },
    "kernelspec": {
      "name": "python3",
      "display_name": "Python 3"
    }
  },
  "cells": [
    {
      "cell_type": "markdown",
      "metadata": {
        "id": "view-in-github",
        "colab_type": "text"
      },
      "source": [
        "<a href=\"https://colab.research.google.com/github/ratnangshu/Coursera_Reinforcement_Learning/blob/main/1_Fundamentals_of_Reinforcement_Learning/Assignment_2_Optimal_Policies_with_Dynamic_Programming.ipynb\" target=\"_parent\"><img src=\"https://colab.research.google.com/assets/colab-badge.svg\" alt=\"Open In Colab\"/></a>"
      ]
    },
    {
      "cell_type": "markdown",
      "metadata": {
        "id": "Hd99np0m3W5C"
      },
      "source": [
        "# Assignment 2: Optimal Policies with Dynamic Programming\r\n",
        "Welcome to Assignment 2. This notebook will help you understand:\r\n",
        "\r\n",
        "* Policy Evaluation and Policy Improvement.\r\n",
        "* Value and Policy Iteration.\r\n",
        "* Bellman Equations.\r\n",
        "\r\n",
        "## Gridworld City\r\n",
        "Gridworld City, a thriving metropolis with a booming technology industry, has recently experienced an influx of grid-loving software engineers. Unfortunately, the city's street parking system, which charges a fixed rate, is struggling to keep up with the increased demand. To address this, the city council has decided to modify the pricing scheme to better promote social welfare. In general, the city considers social welfare higher when more parking is being used, the exception being that the city prefers that at least one spot is left unoccupied (so that it is available in case someone really needs it). The city council has created a Markov decision process (MDP) to model the demand for parking with a reward function that reflects its preferences. Now the city has hired you — an expert in dynamic programming — to help determine an optimal policy.\r\n",
        "\r\n",
        "## Preliminaries\r\n",
        "You'll need two imports to complete this assigment:\r\n",
        "\r\n",
        "* numpy: The fundamental package for scientific computing with Python.\r\n",
        "* tools: A module containing an environment and a plotting function.\r\n",
        "There are also some other lines in the cell below that are used for grading and plotting — you needn't worry about them.\r\n",
        "\r\n",
        "In this notebook, all cells are locked except those that you are explicitly asked to modify. It is up to you to decide how to implement your solution in these cells, <b>but please do not import other libraries</b> — doing so will break the autograder."
      ]
    },
    {
      "cell_type": "code",
      "metadata": {
        "colab": {
          "base_uri": "https://localhost:8080/"
        },
        "id": "cMGmlBFGU5xs",
        "outputId": "d1308d12-9a98-4137-e363-e7b22ee7b81e"
      },
      "source": [
        "!pip install grader"
      ],
      "execution_count": null,
      "outputs": [
        {
          "output_type": "stream",
          "text": [
            "Requirement already satisfied: tools in /usr/local/lib/python3.6/dist-packages (0.1.9)\n",
            "Requirement already satisfied: lxml in /usr/local/lib/python3.6/dist-packages (from tools) (4.2.6)\n",
            "Requirement already satisfied: six in /usr/local/lib/python3.6/dist-packages (from tools) (1.15.0)\n",
            "Requirement already satisfied: pytils in /usr/local/lib/python3.6/dist-packages (from tools) (0.3)\n",
            "Collecting grader\n",
            "\u001b[?25l  Downloading https://files.pythonhosted.org/packages/76/28/65ae5f11fa6e6c44f532d8057dff807b26c005501c533790853abed0f628/grader-1.2.tar.gz (50kB)\n",
            "\u001b[K     |████████████████████████████████| 51kB 2.8MB/s \n",
            "\u001b[?25hBuilding wheels for collected packages: grader\n",
            "  Building wheel for grader (setup.py) ... \u001b[?25l\u001b[?25hdone\n",
            "  Created wheel for grader: filename=grader-1.2-cp36-none-any.whl size=55352 sha256=32fb89939643885ed3e20c3b5dbe5cdf2f1d5680fb667429b8419f48e3d1dc91\n",
            "  Stored in directory: /root/.cache/pip/wheels/d5/cb/ac/80bda6cc5cb7c144f692a371825877eada3cf8e1d6d33ca4e2\n",
            "Successfully built grader\n",
            "Installing collected packages: grader\n",
            "Successfully installed grader-1.2\n"
          ],
          "name": "stdout"
        }
      ]
    },
    {
      "cell_type": "code",
      "metadata": {
        "colab": {
          "base_uri": "https://localhost:8080/",
          "height": 33
        },
        "id": "sRkC_h0b3Hxg",
        "outputId": "4892429c-ad20-49b0-f568-81829db6fd21"
      },
      "source": [
        "%matplotlib inline\r\n",
        "import numpy as np\r\n",
        "import tools\r\n",
        "import grader"
      ],
      "execution_count": null,
      "outputs": [
        {
          "output_type": "display_data",
          "data": {
            "text/plain": [
              "<Figure size 432x288 with 0 Axes>"
            ]
          },
          "metadata": {
            "tags": []
          }
        }
      ]
    },
    {
      "cell_type": "markdown",
      "metadata": {
        "id": "m-sCBpTMUzIJ"
      },
      "source": [
        "In the city council's parking MDP, states are nonnegative integers indicating how many parking spaces are occupied, actions are nonnegative integers designating the price of street parking, the reward is a real value describing the city's preference for the situation, and time is discretized by hour. As might be expected, charging a high price is likely to decrease occupancy over the hour, while charging a low price is likely to increase it.\r\n",
        "\r\n",
        "For now, let's consider an environment with three parking spaces and three price points. Note that an environment with three parking spaces actually has four states — zero, one, two, or three spaces could be occupied."
      ]
    },
    {
      "cell_type": "code",
      "metadata": {
        "id": "qv4mY5IUUxtj"
      },
      "source": [
        "# ---------------\r\n",
        "# Discussion Cell\r\n",
        "# ---------------\r\n",
        "num_spaces = 3\r\n",
        "num_prices = 3\r\n",
        "env = tools.ParkingWorld(num_spaces, num_prices)\r\n",
        "V = np.zeros(num_spaces + 1)\r\n",
        "pi = np.ones((num_spaces + 1, num_prices)) / num_prices"
      ],
      "execution_count": null,
      "outputs": []
    },
    {
      "cell_type": "markdown",
      "metadata": {
        "id": "kQGQClIcbp-G"
      },
      "source": [
        "The value function is a one-dimensional array where the $i$-th entry gives the value of $i$ spaces being occupied."
      ]
    },
    {
      "cell_type": "code",
      "metadata": {
        "colab": {
          "base_uri": "https://localhost:8080/"
        },
        "id": "43twOOZYbmqQ",
        "outputId": "b4d02fe5-c9b2-4c1b-9db1-dcac0e3f64a7"
      },
      "source": [
        "V"
      ],
      "execution_count": null,
      "outputs": [
        {
          "output_type": "execute_result",
          "data": {
            "text/plain": [
              "array([0., 0., 0., 0.])"
            ]
          },
          "metadata": {
            "tags": []
          },
          "execution_count": 4
        }
      ]
    },
    {
      "cell_type": "markdown",
      "metadata": {
        "id": "L6iiUb4ab24K"
      },
      "source": [
        "We can represent the policy as a two-dimensional array where the  (𝑖,𝑗) -th entry gives the probability of taking action  𝑗  in state  𝑖 ."
      ]
    },
    {
      "cell_type": "code",
      "metadata": {
        "colab": {
          "base_uri": "https://localhost:8080/"
        },
        "id": "lxqjg5ZybrEI",
        "outputId": "ae63d058-97dd-4516-c9f4-7964864fa353"
      },
      "source": [
        "pi"
      ],
      "execution_count": null,
      "outputs": [
        {
          "output_type": "execute_result",
          "data": {
            "text/plain": [
              "array([[0.33333333, 0.33333333, 0.33333333],\n",
              "       [0.33333333, 0.33333333, 0.33333333],\n",
              "       [0.33333333, 0.33333333, 0.33333333],\n",
              "       [0.33333333, 0.33333333, 0.33333333]])"
            ]
          },
          "metadata": {
            "tags": []
          },
          "execution_count": 9
        }
      ]
    },
    {
      "cell_type": "code",
      "metadata": {
        "colab": {
          "base_uri": "https://localhost:8080/"
        },
        "id": "cBXWkVPYbsuo",
        "outputId": "c3e2472c-b554-480d-b640-0b6b0606765e"
      },
      "source": [
        "pi[0] = [0.75, 0.11, 0.14]\r\n",
        "\r\n",
        "for s, pi_s in enumerate(pi):\r\n",
        "    for a, p in enumerate(pi_s):\r\n",
        "        print(f'pi(A={a}|S={s}) = {p.round(2)}    ', end='')\r\n",
        "    print()"
      ],
      "execution_count": null,
      "outputs": [
        {
          "output_type": "stream",
          "text": [
            "pi(A=0|S=0) = 0.75    pi(A=1|S=0) = 0.11    pi(A=2|S=0) = 0.14    \n",
            "pi(A=0|S=1) = 0.33    pi(A=1|S=1) = 0.33    pi(A=2|S=1) = 0.33    \n",
            "pi(A=0|S=2) = 0.33    pi(A=1|S=2) = 0.33    pi(A=2|S=2) = 0.33    \n",
            "pi(A=0|S=3) = 0.33    pi(A=1|S=3) = 0.33    pi(A=2|S=3) = 0.33    \n"
          ],
          "name": "stdout"
        }
      ]
    },
    {
      "cell_type": "code",
      "metadata": {
        "colab": {
          "base_uri": "https://localhost:8080/",
          "height": 376
        },
        "id": "dO-z1R3dbvCA",
        "outputId": "a4afa23d-af3e-4a16-a521-cc5c281ec680"
      },
      "source": [
        "V[0] = 1\r\n",
        "\r\n",
        "tools.plot(V, pi)"
      ],
      "execution_count": null,
      "outputs": [
        {
          "output_type": "display_data",
          "data": {
            "image/png": "[encoded data removed]",
            "text/plain": [
              "<Figure size 900x360 with 3 Axes>"
            ]
          },
          "metadata": {
            "tags": []
          }
        }
      ]
    },
    {
      "cell_type": "markdown",
      "metadata": {
        "id": "VVJMvjdycAX_"
      },
      "source": [
        "We can visualize a value function and policy with the plot function in the tools module. On the left, the value function is displayed as a barplot. State zero has an expected return of ten, while the other states have an expected return of zero. On the right, the policy is displayed on a two-dimensional grid. Each vertical strip gives the policy at the labeled state. In state zero, action zero is the darkest because the agent's policy makes this choice with the highest probability. In the other states the agent has the equiprobable policy, so the vertical strips are colored uniformly.\r\n",
        "\r\n",
        "You can access the state space and the action set as attributes of the environment."
      ]
    },
    {
      "cell_type": "code",
      "metadata": {
        "colab": {
          "base_uri": "https://localhost:8080/"
        },
        "id": "zEY_blhSb9Uf",
        "outputId": "66221814-2d7c-4c52-e811-671bf17cdf37"
      },
      "source": [
        "env.S"
      ],
      "execution_count": null,
      "outputs": [
        {
          "output_type": "execute_result",
          "data": {
            "text/plain": [
              "[0, 1, 2, 3]"
            ]
          },
          "metadata": {
            "tags": []
          },
          "execution_count": 12
        }
      ]
    },
    {
      "cell_type": "code",
      "metadata": {
        "colab": {
          "base_uri": "https://localhost:8080/"
        },
        "id": "PSyax7rgcCdQ",
        "outputId": "d1d262bf-55d1-471c-e7e1-eaf346dfb9dd"
      },
      "source": [
        "env.A"
      ],
      "execution_count": null,
      "outputs": [
        {
          "output_type": "execute_result",
          "data": {
            "text/plain": [
              "[0, 1, 2]"
            ]
          },
          "metadata": {
            "tags": []
          },
          "execution_count": 13
        }
      ]
    },
    {
      "cell_type": "markdown",
      "metadata": {
        "id": "unVTnhNScJCW"
      },
      "source": [
        "You will need to use the environment's transitions method to complete this assignment. The method takes a state and an action and returns a 2-dimensional array, where the entry at  (𝑖,0)  is the reward for transitioning to state  𝑖  from the current state and the entry at  (𝑖,1)  is the conditional probability of transitioning to state  𝑖  given the current state and action."
      ]
    },
    {
      "cell_type": "code",
      "metadata": {
        "colab": {
          "base_uri": "https://localhost:8080/"
        },
        "id": "5FALvlnwcDpH",
        "outputId": "39cd507b-cfba-45e0-e7b7-3aaae7e0577e"
      },
      "source": [
        "state = 3\r\n",
        "action = 1\r\n",
        "transitions = env.transitions(state, action)\r\n",
        "transitions"
      ],
      "execution_count": null,
      "outputs": [
        {
          "output_type": "execute_result",
          "data": {
            "text/plain": [
              "array([[1.        , 0.12390437],\n",
              "       [2.        , 0.15133714],\n",
              "       [3.        , 0.1848436 ],\n",
              "       [2.        , 0.53991488]])"
            ]
          },
          "metadata": {
            "tags": []
          },
          "execution_count": 14
        }
      ]
    },
    {
      "cell_type": "code",
      "metadata": {
        "colab": {
          "base_uri": "https://localhost:8080/"
        },
        "id": "wiGXcBD2cRQX",
        "outputId": "ac624e10-5440-4615-f55d-6ef3701df6b8"
      },
      "source": [
        "for sp, (r, p) in enumerate(transitions):\r\n",
        "    print(f'p(S\\'={sp}, R={r} | S={state}, A={action}) = {p.round(2)}')"
      ],
      "execution_count": null,
      "outputs": [
        {
          "output_type": "stream",
          "text": [
            "p(S'=0, R=1.0 | S=3, A=1) = 0.12\n",
            "p(S'=1, R=2.0 | S=3, A=1) = 0.15\n",
            "p(S'=2, R=3.0 | S=3, A=1) = 0.18\n",
            "p(S'=3, R=2.0 | S=3, A=1) = 0.54\n"
          ],
          "name": "stdout"
        }
      ]
    },
    {
      "cell_type": "markdown",
      "metadata": {
        "id": "64_sue0Jc5_B"
      },
      "source": [
        "## Section 1: Policy Evaluation\r\n",
        "You're now ready to begin the assignment! First, the city council would like you to evaluate the quality of the existing pricing scheme. Policy evaluation works by iteratively applying the Bellman equation for  𝑣𝜋  to a working value function, as an update rule, as shown below.\r\n",
        "\r\n",
        "𝑣(𝑠)←∑𝑎𝜋(𝑎|𝑠)∑𝑠′,𝑟𝑝(𝑠′,𝑟|𝑠,𝑎)[𝑟+𝛾𝑣(𝑠′)]\r\n",
        " \r\n",
        "This update can either occur \"in-place\" (i.e. the update rule is sequentially applied to each state) or with \"two-arrays\" (i.e. the update rule is simultaneously applied to each state). Both versions converge to  𝑣𝜋  but the in-place version usually converges faster. <b>In this assignment, we will be implementing all update rules in-place</b>, as is done in the pseudocode of chapter 4 of the textbook.\r\n",
        "\r\n",
        "We have written an outline of the policy evaluation algorithm described in chapter 4.1 of the textbook. It is left to you to fill in the bellman_update function to complete the algorithm."
      ]
    },
    {
      "cell_type": "code",
      "metadata": {
        "id": "dIuRd_W5cbWA"
      },
      "source": [
        "# lock\r\n",
        "def evaluate_policy(env, V, pi, gamma, theta):\r\n",
        "    delta = float('inf')\r\n",
        "    while delta > theta:\r\n",
        "        delta = 0\r\n",
        "        for s in env.S:\r\n",
        "            v = V[s]\r\n",
        "            bellman_update(env, V, pi, s, gamma)\r\n",
        "            delta = max(delta, abs(v - V[s]))\r\n",
        "            \r\n",
        "    return V"
      ],
      "execution_count": null,
      "outputs": []
    },
    {
      "cell_type": "code",
      "metadata": {
        "id": "aEXtBx55FMwd"
      },
      "source": [
        "# -----------\r\n",
        "# Graded Cell\r\n",
        "# -----------\r\n",
        "def bellman_update(env, V, pi, s, gamma):\r\n",
        "    \"\"\"Mutate ``V`` according to the Bellman update equation.\"\"\"\r\n",
        "    # YOUR CODE HERE\r\n",
        "    V_temp = 0\r\n",
        "    for a, pi_as in enumerate(pi[s]):\r\n",
        "        transitions = env.transitions(s, a)\r\n",
        "        for sp, (r, p) in enumerate(transitions):\r\n",
        "            V_temp += pi_as*p*(r+gamma*V[sp]) \r\n",
        "\r\n",
        "    V[s] = V_temp\r\n",
        "    # raise NotImplementedError()"
      ],
      "execution_count": null,
      "outputs": []
    },
    {
      "cell_type": "markdown",
      "metadata": {
        "id": "JmmlUn4BFQ1P"
      },
      "source": [
        "The cell below uses the policy evaluation algorithm to evaluate the city's policy, which charges a constant price of one."
      ]
    },
    {
      "cell_type": "code",
      "metadata": {
        "colab": {
          "base_uri": "https://localhost:8080/"
        },
        "id": "Ion57120FOur",
        "outputId": "08802af6-3c9c-4cca-d072-d6fd1b974bf7"
      },
      "source": [
        "# --------------\r\n",
        "# Debugging Cell\r\n",
        "# --------------\r\n",
        "# Feel free to make any changes to this cell to debug your code\r\n",
        "\r\n",
        "# set up test environment\r\n",
        "num_spaces = 10\r\n",
        "num_prices = 4\r\n",
        "env = tools.ParkingWorld(num_spaces, num_prices)\r\n",
        "\r\n",
        "# build test policy\r\n",
        "city_policy = np.zeros((num_spaces + 1, num_prices))\r\n",
        "city_policy[:, 1] = 1\r\n",
        "\r\n",
        "gamma = 0.9\r\n",
        "theta = 0.1\r\n",
        "\r\n",
        "V = np.zeros(num_spaces + 1)\r\n",
        "V = evaluate_policy(env, V, city_policy, gamma, theta)\r\n",
        "\r\n",
        "print(V)"
      ],
      "execution_count": null,
      "outputs": [
        {
          "output_type": "stream",
          "text": [
            "[80.04173399 81.65532303 83.37394007 85.12975566 86.87174913 88.55589131\n",
            " 90.14020422 91.58180605 92.81929841 93.78915889 87.77792991]\n"
          ],
          "name": "stdout"
        }
      ]
    },
    {
      "cell_type": "code",
      "metadata": {
        "id": "TRQwmVC8FSOj"
      },
      "source": [
        "# -----------\r\n",
        "# Tested Cell\r\n",
        "# -----------\r\n",
        "# The contents of the cell will be tested by the autograder.\r\n",
        "# If they do not pass here, they will not pass there.\r\n",
        "\r\n",
        "# set up test environment\r\n",
        "num_spaces = 10\r\n",
        "num_prices = 4\r\n",
        "env = tools.ParkingWorld(num_spaces, num_prices)\r\n",
        "\r\n",
        "# build test policy\r\n",
        "city_policy = np.zeros((num_spaces + 1, num_prices))\r\n",
        "city_policy[:, 1] = 1\r\n",
        "\r\n",
        "gamma = 0.9\r\n",
        "theta = 0.1\r\n",
        "\r\n",
        "V = np.zeros(num_spaces + 1)\r\n",
        "V = evaluate_policy(env, V, city_policy, gamma, theta)\r\n",
        "\r\n",
        "# test the value function\r\n",
        "answer = [80.04, 81.65, 83.37, 85.12, 86.87, 88.55, 90.14, 91.58, 92.81, 93.78, 87.77]"
      ],
      "execution_count": null,
      "outputs": []
    },
    {
      "cell_type": "markdown",
      "metadata": {
        "id": "uZPMsiaOFbii"
      },
      "source": [
        "You can use the plot function to visualize the final value function and policy."
      ]
    },
    {
      "cell_type": "code",
      "metadata": {
        "colab": {
          "base_uri": "https://localhost:8080/",
          "height": 381
        },
        "id": "NE3ACDZqFTk7",
        "outputId": "f303d4ba-4437-491e-81e0-2a39303d662a"
      },
      "source": [
        "# lock\r\n",
        "tools.plot(V, city_policy)"
      ],
      "execution_count": null,
      "outputs": [
        {
          "output_type": "display_data",
          "data": {
            "image/png": "[encoded data removed]",
            "text/plain": [
              "<Figure size 900x360 with 3 Axes>"
            ]
          },
          "metadata": {
            "tags": []
          }
        }
      ]
    },
    {
      "cell_type": "markdown",
      "metadata": {
        "id": "9LngT2y7FfMG"
      },
      "source": [
        "Observe that the value function qualitatively resembles the city council's preferences — it monotonically increases as more parking is used, until there is no parking left, in which case the value is lower. Because of the relatively simple reward function (more reward is accrued when many but not all parking spots are taken and less reward is accrued when few or all parking spots are taken) and the highly stochastic dynamics function (each state has positive probability of being reached each time step) the value functions of most policies will qualitatively resemble this graph. However, depending on the intelligence of the policy, the scale of the graph will differ. In other words, better policies will increase the expected return at every state rather than changing the relative desirability of the states. Intuitively, the value of a less desirable state can be increased by making it less likely to remain in a less desirable state. Similarly, the value of a more desirable state can be increased by making it more likely to remain in a more desirable state. That is to say, good policies are policies that spend more time in desirable states and less time in undesirable states. As we will see in this assignment, such a steady state distribution is achieved by setting the price to be low in low occupancy states (so that the occupancy will increase) and setting the price high when occupancy is high (so that full occupancy will be avoided)."
      ]
    },
    {
      "cell_type": "markdown",
      "metadata": {
        "id": "AexNN3YYF5Hl"
      },
      "source": [
        "## Section 2: Policy Iteration\r\n",
        "Now the city council would like you to compute a more efficient policy using policy iteration. Policy iteration works by alternating between evaluating the existing policy and making the policy greedy with respect to the existing value function. We have written an outline of the policy iteration algorithm described in chapter 4.3 of the textbook. We will make use of the policy evaluation algorithm you completed in section 1. It is left to you to fill in the q_greedify_policy function, such that it modifies the policy at  𝑠  to be greedy with respect to the q-values at  𝑠 , to complete the policy improvement algorithm."
      ]
    },
    {
      "cell_type": "code",
      "metadata": {
        "id": "LiOkkm6ZFdMr"
      },
      "source": [
        "def improve_policy(env, V, pi, gamma):\r\n",
        "    policy_stable = True\r\n",
        "    for s in env.S:\r\n",
        "        old = pi[s].copy()\r\n",
        "        q_greedify_policy(env, V, pi, s, gamma)\r\n",
        "        \r\n",
        "        if not np.array_equal(pi[s], old):\r\n",
        "            policy_stable = False\r\n",
        "            \r\n",
        "    return pi, policy_stable\r\n",
        "\r\n",
        "def policy_iteration(env, gamma, theta):\r\n",
        "    V = np.zeros(len(env.S))\r\n",
        "    pi = np.ones((len(env.S), len(env.A))) / len(env.A)\r\n",
        "    policy_stable = False\r\n",
        "    \r\n",
        "    while not policy_stable:\r\n",
        "        V = evaluate_policy(env, V, pi, gamma, theta)\r\n",
        "        pi, policy_stable = improve_policy(env, V, pi, gamma)\r\n",
        "        \r\n",
        "    return V, pi"
      ],
      "execution_count": null,
      "outputs": []
    },
    {
      "cell_type": "code",
      "metadata": {
        "id": "JovkCmhqGX8m"
      },
      "source": [
        "# -----------\r\n",
        "# Graded Cell\r\n",
        "# -----------\r\n",
        "def q_greedify_policy(env, V, pi, s, gamma):\r\n",
        "    \"\"\"Mutate ``pi`` to be greedy with respect to the q-values induced by ``V``.\"\"\"\r\n",
        "    pi_temp = np.zeros_like(env.A, dtype=float)\r\n",
        "    for a in env.A:\r\n",
        "        transitions = env.transitions(s, a)\r\n",
        "        for sp, (r, p) in enumerate(transitions):\r\n",
        "            pi_temp[a] += p*(r+gamma*V[sp]) \r\n",
        "    \r\n",
        "    possible_actions = np.argwhere(pi_temp == np.amax(pi_temp)) # if there are multiple actions with maximum values\r\n",
        "    for a in env.A:\r\n",
        "        if a in possible_actions:\r\n",
        "            pi[s,a] = 1/len(possible_actions) # assigning all the possible actions with equal probability\r\n",
        "        else:\r\n",
        "            pi[s,a] = 0 # assigning rest of the actions 0 probability; so they will never be chosen\r\n",
        "    # YOUR CODE HERE\r\n",
        "    # raise NotImplementedError()"
      ],
      "execution_count": null,
      "outputs": []
    },
    {
      "cell_type": "code",
      "metadata": {
        "id": "Cr6aFgNhPIjF"
      },
      "source": [
        "# --------------\r\n",
        "# Debugging Cell\r\n",
        "# --------------\r\n",
        "# Feel free to make any changes to this cell to debug your code\r\n",
        "\r\n",
        "gamma = 0.9\r\n",
        "theta = 0.1\r\n",
        "env = tools.ParkingWorld(num_spaces=6, num_prices=4)\r\n",
        "\r\n",
        "V = np.array([7, 6, 5, 4, 3, 2, 1])\r\n",
        "pi = np.ones((7, 4)) / 4\r\n",
        "\r\n",
        "new_pi, stable = improve_policy(env, V, pi, gamma)\r\n",
        "\r\n",
        "# expect first call to greedify policy\r\n",
        "expected_pi = np.array([\r\n",
        "    [0, 0, 0, 1],\r\n",
        "    [0, 0, 0, 1],\r\n",
        "    [0, 0, 0, 1],\r\n",
        "    [0, 0, 0, 1],\r\n",
        "    [0, 0, 0, 1],\r\n",
        "    [0, 0, 0, 1],\r\n",
        "    [0, 0, 0, 1],\r\n",
        "])\r\n",
        "assert np.all(new_pi == expected_pi)\r\n",
        "assert stable == False\r\n",
        "\r\n",
        "# the value function has not changed, so the greedy policy should not change\r\n",
        "new_pi, stable = improve_policy(env, V, new_pi, gamma)\r\n",
        "\r\n",
        "assert np.all(new_pi == expected_pi)\r\n",
        "assert stable == True"
      ],
      "execution_count": null,
      "outputs": []
    },
    {
      "cell_type": "code",
      "metadata": {
        "id": "1qR_XavSPKFz"
      },
      "source": [
        "# -----------\r\n",
        "# Tested Cell\r\n",
        "# -----------\r\n",
        "# The contents of the cell will be tested by the autograder.\r\n",
        "# If they do not pass here, they will not pass there.\r\n",
        "gamma = 0.9\r\n",
        "theta = 0.1\r\n",
        "env = tools.ParkingWorld(num_spaces=10, num_prices=4)\r\n",
        "\r\n",
        "V, pi = policy_iteration(env, gamma, theta)\r\n",
        "\r\n",
        "V_answer = [81.60, 83.28, 85.03, 86.79, 88.51, 90.16, 91.70, 93.08, 94.25, 95.25, 89.45]\r\n",
        "pi_answer = [\r\n",
        "    [1, 0, 0, 0],\r\n",
        "    [1, 0, 0, 0],\r\n",
        "    [1, 0, 0, 0],\r\n",
        "    [1, 0, 0, 0],\r\n",
        "    [1, 0, 0, 0],\r\n",
        "    [1, 0, 0, 0],\r\n",
        "    [1, 0, 0, 0],\r\n",
        "    [1, 0, 0, 0],\r\n",
        "    [1, 0, 0, 0],\r\n",
        "    [0, 0, 0, 1],\r\n",
        "    [0, 0, 0, 1],\r\n",
        "]\r\n",
        "\r\n"
      ],
      "execution_count": null,
      "outputs": []
    },
    {
      "cell_type": "markdown",
      "metadata": {
        "id": "F0gZR6jZPRdL"
      },
      "source": [
        "When you are ready to test the policy iteration algorithm, run the cell below."
      ]
    },
    {
      "cell_type": "code",
      "metadata": {
        "id": "_nUQrGqHPL7T"
      },
      "source": [
        "env = tools.ParkingWorld(num_spaces=10, num_prices=4)\r\n",
        "gamma = 0.9\r\n",
        "theta = 0.1\r\n",
        "V, pi = policy_iteration(env, gamma, theta)"
      ],
      "execution_count": null,
      "outputs": []
    },
    {
      "cell_type": "markdown",
      "metadata": {
        "id": "CNBbRtfRPUTh"
      },
      "source": [
        "You can use the plot function to visualize the final value function and policy."
      ]
    },
    {
      "cell_type": "code",
      "metadata": {
        "colab": {
          "base_uri": "https://localhost:8080/",
          "height": 381
        },
        "id": "g5_JvOL6PS6a",
        "outputId": "54365b23-80c2-4c27-844d-4934bcf2c8a6"
      },
      "source": [
        "tools.plot(V, pi)"
      ],
      "execution_count": null,
      "outputs": [
        {
          "output_type": "display_data",
          "data": {
            "image/png": "[encoded data removed]",
            "text/plain": [
              "<Figure size 900x360 with 3 Axes>"
            ]
          },
          "metadata": {
            "tags": []
          }
        }
      ]
    },
    {
      "cell_type": "markdown",
      "metadata": {
        "id": "2ZGpDeG7PZLA"
      },
      "source": [
        "You can check the value function (rounded to one decimal place) and policy against the answer below:\r\n",
        "\r\n",
        "| State | Value | Action |\r\n",
        "|-------|-------|-------|\r\n",
        "|0    |81.6|   0\r\n",
        "|1    |83.3|   0\r\n",
        "|2    |85.0|    0\r\n",
        "|3    |86.8|    0\r\n",
        "|4    |88.5|    0\r\n",
        "|5    |90.2|    0\r\n",
        "|6    |91.7|    0\r\n",
        "|7    |93.1|    0\r\n",
        "|8    |94.3|    0\r\n",
        "|9    |95.3|    3\r\n",
        "|10   |89.5|    3"
      ]
    },
    {
      "cell_type": "markdown",
      "metadata": {
        "id": "ejuT7yPPQlP9"
      },
      "source": [
        "## Section 3: Value Iteration\r\n",
        "The city has also heard about value iteration and would like you to implement it. Value iteration works by iteratively applying the Bellman optimality equation for  𝑣∗  to a working value function, as an update rule, as shown below.\r\n",
        "\r\n",
        "𝑣(𝑠)←max𝑎∑𝑠′,𝑟𝑝(𝑠′,𝑟|𝑠,𝑎)[𝑟+𝛾𝑣(𝑠′)]\r\n",
        " \r\n",
        "We have written an outline of the value iteration algorithm described in chapter 4.4 of the textbook. It is left to you to fill in the bellman_optimality_update function to complete the value iteration algorithm."
      ]
    },
    {
      "cell_type": "code",
      "metadata": {
        "id": "rbT2vwTgPXK6"
      },
      "source": [
        "def value_iteration(env, gamma, theta):\r\n",
        "    V = np.zeros(len(env.S))\r\n",
        "    while True:\r\n",
        "        delta = 0\r\n",
        "        for s in env.S:\r\n",
        "            v = V[s]\r\n",
        "            bellman_optimality_update(env, V, s, gamma)\r\n",
        "            delta = max(delta, abs(v - V[s]))\r\n",
        "        if delta < theta:\r\n",
        "            break\r\n",
        "    pi = np.ones((len(env.S), len(env.A))) / len(env.A)\r\n",
        "    for s in env.S:\r\n",
        "        q_greedify_policy(env, V, pi, s, gamma)\r\n",
        "    return V, pi"
      ],
      "execution_count": null,
      "outputs": []
    },
    {
      "cell_type": "code",
      "metadata": {
        "id": "aW4UXWq5S3Xd"
      },
      "source": [
        "# -----------\r\n",
        "# Graded Cell\r\n",
        "# -----------\r\n",
        "def bellman_optimality_update(env, V, s, gamma):\r\n",
        "    \"\"\"Mutate ``V`` according to the Bellman optimality update equation.\"\"\"\r\n",
        "    # YOUR CODE HERE\r\n",
        "    V_max = -1000.0\r\n",
        "    for a, pi_as in enumerate(pi[s]):\r\n",
        "        V_temp = 0\r\n",
        "        transitions = env.transitions(s, a)\r\n",
        "        for sp, (r, p) in enumerate(transitions):\r\n",
        "            V_temp += pi_as*p*(r+gamma*V[sp]) \r\n",
        "        if V_temp > V_max:\r\n",
        "            V_max = V_temp\r\n",
        "    \r\n",
        "    V[s] = V_max\r\n",
        "    #raise NotImplementedError()"
      ],
      "execution_count": null,
      "outputs": []
    },
    {
      "cell_type": "code",
      "metadata": {
        "id": "uxx5OWocS4rz"
      },
      "source": [
        "# --------------\r\n",
        "# Debugging Cell\r\n",
        "# --------------\r\n",
        "# Feel free to make any changes to this cell to debug your code\r\n",
        "\r\n",
        "gamma = 0.9\r\n",
        "env = tools.ParkingWorld(num_spaces=6, num_prices=4)\r\n",
        "\r\n",
        "V = np.array([7, 6, 5, 4, 3, 2, 1])\r\n",
        "\r\n",
        "# only state 0 updated\r\n",
        "bellman_optimality_update(env, V, 0, gamma)\r\n",
        "assert list(V) == [5, 6, 5, 4, 3, 2, 1]\r\n",
        "\r\n",
        "# only state 2 updated\r\n",
        "bellman_optimality_update(env, V, 2, gamma)\r\n",
        "assert list(V) == [5, 6, 7, 4, 3, 2, 1]"
      ],
      "execution_count": null,
      "outputs": []
    },
    {
      "cell_type": "code",
      "metadata": {
        "id": "6uVdYh3dS6Nr"
      },
      "source": [
        "# -----------\r\n",
        "# Tested Cell\r\n",
        "# -----------\r\n",
        "# The contents of the cell will be tested by the autograder.\r\n",
        "# If they do not pass here, they will not pass there.\r\n",
        "gamma = 0.9\r\n",
        "env = tools.ParkingWorld(num_spaces=10, num_prices=4)\r\n",
        "\r\n",
        "V = np.array([1, 2, 3, 4, 5, 6, 7, 8, 9, 10, 11])\r\n",
        "\r\n",
        "for _ in range(10):\r\n",
        "    for s in env.S:\r\n",
        "        bellman_optimality_update(env, V, s, gamma)\r\n",
        "\r\n",
        "# make sure value function is exactly correct\r\n",
        "answer = [61, 63, 65, 67, 69, 71, 72, 74, 75, 76, 71]\r\n",
        "assert np.all(V == answer)"
      ],
      "execution_count": null,
      "outputs": []
    },
    {
      "cell_type": "markdown",
      "metadata": {
        "id": "bklXlTiYS97x"
      },
      "source": [
        "When you are ready to test the value iteration algorithm, run the cell below."
      ]
    },
    {
      "cell_type": "code",
      "metadata": {
        "id": "TPZdXJ50S7tr"
      },
      "source": [
        "env = tools.ParkingWorld(num_spaces=10, num_prices=4)\r\n",
        "gamma = 0.9\r\n",
        "theta = 0.1\r\n",
        "V, pi = value_iteration(env, gamma, theta)"
      ],
      "execution_count": null,
      "outputs": []
    },
    {
      "cell_type": "markdown",
      "metadata": {
        "id": "Pi9i8Ms9TBav"
      },
      "source": [
        "You can use the plot function to visualize the final value function and policy."
      ]
    },
    {
      "cell_type": "code",
      "metadata": {
        "colab": {
          "base_uri": "https://localhost:8080/",
          "height": 381
        },
        "id": "xD8TlD29S_X7",
        "outputId": "c1398a24-8d71-4823-ad1c-4fbd5e46049f"
      },
      "source": [
        "tools.plot(V, pi)"
      ],
      "execution_count": null,
      "outputs": [
        {
          "output_type": "display_data",
          "data": {
            "image/png": "[encoded data removed]",
            "text/plain": [
              "<Figure size 900x360 with 3 Axes>"
            ]
          },
          "metadata": {
            "tags": []
          }
        }
      ]
    },
    {
      "cell_type": "markdown",
      "metadata": {
        "id": "GJ5goV9UTFxU"
      },
      "source": [
        "You can check your value function (rounded to one decimal place) and policy against the answer below:\r\n",
        "\r\n",
        "| State | Value | Action |\r\n",
        "|-------|-------|--------|\r\n",
        "|0|    81.6|    0|\r\n",
        "|1|    83.3|    0|\r\n",
        "|2|    85.0|    0|\r\n",
        "|3|    86.8|    0|\r\n",
        "|4|    88.5|    0|\r\n",
        "|5|    90.2|    0|\r\n",
        "|6|    91.7|    0|\r\n",
        "|7|    93.1|    0|\r\n",
        "|8|    94.3|    0|\r\n",
        "|9|    95.3|    3|\r\n",
        "|10|    89.5|    3|\r\n",
        "\r\n",
        "In the value iteration algorithm above, a policy is not explicitly maintained until the value function has converged. Below, we have written an identically behaving value iteration algorithm that maintains an updated policy. Writing value iteration in this form makes its relationship to policy iteration more evident. Policy iteration alternates between doing complete greedifications and complete evaluations. On the other hand, value iteration alternates between doing local greedifications and local evaluations."
      ]
    },
    {
      "cell_type": "code",
      "metadata": {
        "id": "nfJtUQapTC8j"
      },
      "source": [
        "def value_iteration2(env, gamma, theta):\r\n",
        "    V = np.zeros(len(env.S))\r\n",
        "    pi = np.ones((len(env.S), len(env.A))) / len(env.A)\r\n",
        "    while True:\r\n",
        "        delta = 0\r\n",
        "        for s in env.S:\r\n",
        "            v = V[s]\r\n",
        "            q_greedify_policy(env, V, pi, s, gamma)\r\n",
        "            bellman_update(env, V, pi, s, gamma)\r\n",
        "            delta = max(delta, abs(v - V[s]))\r\n",
        "        if delta < theta:\r\n",
        "            break\r\n",
        "    return V, pi"
      ],
      "execution_count": null,
      "outputs": []
    },
    {
      "cell_type": "markdown",
      "metadata": {
        "id": "5y6RgehjTKYO"
      },
      "source": [
        "You can try the second value iteration algorithm by running the cell below."
      ]
    },
    {
      "cell_type": "code",
      "metadata": {
        "colab": {
          "base_uri": "https://localhost:8080/",
          "height": 381
        },
        "id": "aYnFHraDTHgK",
        "outputId": "5b743af5-44ac-4a1d-d190-170b6defebc2"
      },
      "source": [
        "env = tools.ParkingWorld(num_spaces=10, num_prices=4)\r\n",
        "gamma = 0.9\r\n",
        "theta = 0.1\r\n",
        "V, pi = value_iteration2(env, gamma, theta)\r\n",
        "tools.plot(V, pi)"
      ],
      "execution_count": null,
      "outputs": [
        {
          "output_type": "display_data",
          "data": {
            "image/png": "[encoded data removed]",
            "text/plain": [
              "<Figure size 900x360 with 3 Axes>"
            ]
          },
          "metadata": {
            "tags": []
          }
        }
      ]
    },
    {
      "cell_type": "markdown",
      "metadata": {
        "id": "i_P895wZTOY0"
      },
      "source": [
        "## Wrapping Up\r\n",
        "Congratulations, you've completed assignment 2! In this assignment, we investigated policy evaluation and policy improvement, policy iteration and value iteration, and Bellman updates. Gridworld City thanks you for your service!"
      ]
    },
    {
      "cell_type": "code",
      "metadata": {
        "id": "kbcHBU3dTL1u"
      },
      "source": [
        ""
      ],
      "execution_count": null,
      "outputs": []
    }
  ]
}